{
 "cells": [
  {
   "cell_type": "markdown",
   "metadata": {},
   "source": [
    "## Product Recommendation system based on Product Description"
   ]
  },
  {
   "cell_type": "code",
   "execution_count": 4,
   "metadata": {},
   "outputs": [],
   "source": [
    "# Importing libraries\n",
    "import numpy as np\n",
    "import pandas as pd\n",
    "import matplotlib.pyplot as plt\n",
    "\n",
    "from sklearn.feature_extraction.text import TfidfVectorizer, CountVectorizer\n",
    "from sklearn.neighbors import NearestNeighbors\n",
    "from sklearn.cluster import KMeans\n",
    "from sklearn.metrics import adjusted_rand_score"
   ]
  },
  {
   "cell_type": "code",
   "execution_count": 5,
   "metadata": {},
   "outputs": [
    {
     "data": {
      "text/plain": [
       "(124428, 2)"
      ]
     },
     "execution_count": 5,
     "metadata": {},
     "output_type": "execute_result"
    }
   ],
   "source": [
    "product_desc = pd.read_csv('product_descriptions.csv')\n",
    "product_desc.shape"
   ]
  },
  {
   "cell_type": "code",
   "execution_count": 6,
   "metadata": {},
   "outputs": [
    {
     "data": {
      "text/html": [
       "<div>\n",
       "<style scoped>\n",
       "    .dataframe tbody tr th:only-of-type {\n",
       "        vertical-align: middle;\n",
       "    }\n",
       "\n",
       "    .dataframe tbody tr th {\n",
       "        vertical-align: top;\n",
       "    }\n",
       "\n",
       "    .dataframe thead th {\n",
       "        text-align: right;\n",
       "    }\n",
       "</style>\n",
       "<table border=\"1\" class=\"dataframe\">\n",
       "  <thead>\n",
       "    <tr style=\"text-align: right;\">\n",
       "      <th></th>\n",
       "      <th>product_uid</th>\n",
       "      <th>product_description</th>\n",
       "    </tr>\n",
       "  </thead>\n",
       "  <tbody>\n",
       "    <tr>\n",
       "      <th>0</th>\n",
       "      <td>100001</td>\n",
       "      <td>Not only do angles make joints stronger, they ...</td>\n",
       "    </tr>\n",
       "    <tr>\n",
       "      <th>1</th>\n",
       "      <td>100002</td>\n",
       "      <td>BEHR Premium Textured DECKOVER is an innovativ...</td>\n",
       "    </tr>\n",
       "    <tr>\n",
       "      <th>2</th>\n",
       "      <td>100003</td>\n",
       "      <td>Classic architecture meets contemporary design...</td>\n",
       "    </tr>\n",
       "    <tr>\n",
       "      <th>3</th>\n",
       "      <td>100004</td>\n",
       "      <td>The Grape Solar 265-Watt Polycrystalline PV So...</td>\n",
       "    </tr>\n",
       "    <tr>\n",
       "      <th>4</th>\n",
       "      <td>100005</td>\n",
       "      <td>Update your bathroom with the Delta Vero Singl...</td>\n",
       "    </tr>\n",
       "  </tbody>\n",
       "</table>\n",
       "</div>"
      ],
      "text/plain": [
       "   product_uid                                product_description\n",
       "0       100001  Not only do angles make joints stronger, they ...\n",
       "1       100002  BEHR Premium Textured DECKOVER is an innovativ...\n",
       "2       100003  Classic architecture meets contemporary design...\n",
       "3       100004  The Grape Solar 265-Watt Polycrystalline PV So...\n",
       "4       100005  Update your bathroom with the Delta Vero Singl..."
      ]
     },
     "execution_count": 6,
     "metadata": {},
     "output_type": "execute_result"
    }
   ],
   "source": [
    "product_desc.head()"
   ]
  },
  {
   "cell_type": "code",
   "execution_count": 7,
   "metadata": {},
   "outputs": [
    {
     "data": {
      "text/plain": [
       "(124428, 2)"
      ]
     },
     "execution_count": 7,
     "metadata": {},
     "output_type": "execute_result"
    }
   ],
   "source": [
    "# Remove the missing values\n",
    "product_desc = product_desc.dropna()\n",
    "product_desc.shape"
   ]
  },
  {
   "cell_type": "markdown",
   "metadata": {},
   "source": [
    "### Let's take a sample of 2000 product descriptions"
   ]
  },
  {
   "cell_type": "code",
   "execution_count": 27,
   "metadata": {},
   "outputs": [
    {
     "data": {
      "text/plain": [
       "0     Not only do angles make joints stronger, they ...\n",
       "1     BEHR Premium Textured DECKOVER is an innovativ...\n",
       "2     Classic architecture meets contemporary design...\n",
       "3     The Grape Solar 265-Watt Polycrystalline PV So...\n",
       "4     Update your bathroom with the Delta Vero Singl...\n",
       "5     Achieving delicious results is almost effortle...\n",
       "6     The Quantum Adjustable 2-Light LED Black Emerg...\n",
       "7     The Teks #10 x 1-1/2 in. Zinc-Plated Steel Was...\n",
       "8     Get the House of Fara 3/4 in. x 3 in. x 8 ft. ...\n",
       "9     Valley View Industries Metal Stakes (4-Pack) a...\n",
       "10    Recycler 22 in. Personal Pace Variable Speed S...\n",
       "11    The 96 in. wide Caramel Simple Weave Rollup Ba...\n",
       "12    The InSinkErator SinkTop Switch Single Outlet ...\n",
       "13    The Rubbermaid 1-Step Folding Plastic Step Sto...\n",
       "14    Backyard X-Scapes, Inc. uses the finest bamboo...\n",
       "Name: product_description, dtype: object"
      ]
     },
     "execution_count": 27,
     "metadata": {},
     "output_type": "execute_result"
    }
   ],
   "source": [
    "desc = product_desc.head(2000)\n",
    "desc['product_description'].head(15)"
   ]
  },
  {
   "cell_type": "markdown",
   "metadata": {},
   "source": [
    "## Feature extraction using TFIDF Vectorizer\n",
    "Converting words in to numerical data"
   ]
  },
  {
   "cell_type": "code",
   "execution_count": 10,
   "metadata": {},
   "outputs": [
    {
     "data": {
      "text/plain": [
       "<2000x20681 sparse matrix of type '<class 'numpy.float64'>'\n",
       "\twith 141753 stored elements in Compressed Sparse Row format>"
      ]
     },
     "execution_count": 10,
     "metadata": {},
     "output_type": "execute_result"
    }
   ],
   "source": [
    "Tfidf = TfidfVectorizer(stop_words = 'english')\n",
    "x = Tfidf.fit_transform(desc['product_description'])\n",
    "x"
   ]
  },
  {
   "cell_type": "markdown",
   "metadata": {},
   "source": [
    "### Now there are 2000 records with 141753 columns, each column representing a token word"
   ]
  },
  {
   "cell_type": "code",
   "execution_count": 15,
   "metadata": {},
   "outputs": [
    {
     "data": {
      "image/png": "[encoded data removed]",
      "text/plain": [
       "<Figure size 432x288 with 1 Axes>"
      ]
     },
     "metadata": {
      "needs_background": "light"
     },
     "output_type": "display_data"
    }
   ],
   "source": [
    "# Fitting K-Means to the dataset\n",
    "\n",
    "kmeans = KMeans(n_clusters = 20, init = 'k-means++')\n",
    "y_kmeans = kmeans.fit_predict(x)\n",
    "plt.plot(y_kmeans, \".\")\n",
    "plt.show()"
   ]
  },
  {
   "cell_type": "code",
   "execution_count": 17,
   "metadata": {},
   "outputs": [
    {
     "name": "stdout",
     "output_type": "stream",
     "text": [
      "Top terms per cluster:\n",
      "Cluster 0:\n",
      " faucet\n",
      " pull\n",
      " bathroom\n",
      " design\n",
      " finish\n",
      " tub\n",
      " vanity\n",
      " nickel\n",
      " water\n",
      " towel\n",
      "Cluster 1:\n",
      " lumber\n",
      " play\n",
      " grading\n",
      " treated\n",
      " highest\n",
      " standards\n",
      " strength\n",
      " paracord\n",
      " outdoor\n",
      " meets\n",
      "Cluster 2:\n",
      " cooking\n",
      " cu\n",
      " cycle\n",
      " wash\n",
      " oven\n",
      " clothes\n",
      " dryer\n",
      " washer\n",
      " cycles\n",
      " options\n",
      "Cluster 3:\n",
      " light\n",
      " watt\n",
      " bulb\n",
      " fixture\n",
      " led\n",
      " fan\n",
      " bulbs\n",
      " lighting\n",
      " ceiling\n",
      " white\n",
      "Cluster 4:\n",
      " toilet\n",
      " flush\n",
      " bowl\n",
      " gpf\n",
      " corner\n",
      " water\n",
      " seat\n",
      " flushing\n",
      " design\n",
      " tank\n",
      "Cluster 5:\n",
      " water\n",
      " heater\n",
      " hot\n",
      " tank\n",
      " nox\n",
      " gas\n",
      " gal\n",
      " rheem\n",
      " valve\n",
      " households\n",
      "Cluster 6:\n",
      " post\n",
      " fence\n",
      " posts\n",
      " gate\n",
      " vinyl\n",
      " fencing\n",
      " bamboo\n",
      " maintenance\n",
      " ft\n",
      " wood\n",
      "Cluster 7:\n",
      " cutting\n",
      " blade\n",
      " tool\n",
      " engine\n",
      " speed\n",
      " mower\n",
      " power\n",
      " amp\n",
      " nailer\n",
      " motor\n",
      "Cluster 8:\n",
      " storage\n",
      " shelf\n",
      " shelves\n",
      " lbs\n",
      " wall\n",
      " easy\n",
      " adjustable\n",
      " ft\n",
      " shelving\n",
      " space\n",
      "Cluster 9:\n",
      " steel\n",
      " grill\n",
      " patio\n",
      " chime\n",
      " frame\n",
      " coated\n",
      " outdoor\n",
      " rust\n",
      " metal\n",
      " durable\n",
      "Cluster 10:\n",
      " moulding\n",
      " mdf\n",
      " primed\n",
      " california\n",
      " proposition\n",
      " nbsp\n",
      " residents\n",
      " 65\n",
      " painted\n",
      " chair\n",
      "Cluster 11:\n",
      " water\n",
      " use\n",
      " ft\n",
      " concrete\n",
      " easy\n",
      " used\n",
      " stone\n",
      " product\n",
      " plastic\n",
      " outdoor\n",
      "Cluster 12:\n",
      " volt\n",
      " battery\n",
      " lithium\n",
      " ion\n",
      " charger\n",
      " batteries\n",
      " driver\n",
      " 20\n",
      " speed\n",
      " tool\n",
      "Cluster 13:\n",
      " insulation\n",
      " ecotouch\n",
      " monthly\n",
      " corning\n",
      " owens\n",
      " helps\n",
      " cooling\n",
      " radiant\n",
      " heating\n",
      " thermal\n",
      "Cluster 14:\n",
      " rug\n",
      " vary\n",
      " slightly\n",
      " dimensions\n",
      " colors\n",
      " patterns\n",
      " exists\n",
      " website\n",
      " advised\n",
      " published\n",
      "Cluster 15:\n",
      " door\n",
      " doors\n",
      " glass\n",
      " garage\n",
      " energy\n",
      " security\n",
      " frame\n",
      " steel\n",
      " pet\n",
      " hinges\n",
      "Cluster 16:\n",
      " hole\n",
      " saw\n",
      " tooth\n",
      " rip\n",
      " metal\n",
      " azek\n",
      " blade\n",
      " punched\n",
      " cut\n",
      " plug\n",
      "Cluster 17:\n",
      " air\n",
      " heat\n",
      " cooling\n",
      " 000\n",
      " control\n",
      " fan\n",
      " unit\n",
      " btu\n",
      " cool\n",
      " window\n",
      "Cluster 18:\n",
      " tile\n",
      " ceramic\n",
      " flooring\n",
      " installation\n",
      " countertop\n",
      " look\n",
      " finish\n",
      " residential\n",
      " indoor\n",
      " floor\n",
      "Cluster 19:\n",
      " power\n",
      " volt\n",
      " snow\n",
      " pressure\n",
      " solar\n",
      " battery\n",
      " 65\n",
      " proposition\n",
      " protection\n",
      " watt\n"
     ]
    }
   ],
   "source": [
    "# # Optimal clusters is \n",
    "\n",
    "true_k = 20\n",
    "\n",
    "model = KMeans(n_clusters=true_k, init='k-means++', max_iter=100, n_init=1)\n",
    "model.fit(x)\n",
    "\n",
    "print(\"Top terms per cluster:\")\n",
    "order_centroids = model.cluster_centers_.argsort()[:, ::-1]\n",
    "terms = Tfidf.get_feature_names()\n",
    "for i in range(true_k):\n",
    "    print(\"Cluster %d:\" % i),\n",
    "    for ind in order_centroids[i, :10]:\n",
    "        print(' %s' % terms[ind]),\n",
    "    print"
   ]
  },
  {
   "cell_type": "markdown",
   "metadata": {},
   "source": [
    "## Now Let's see how the model classify the user input keyword"
   ]
  },
  {
   "cell_type": "code",
   "execution_count": 19,
   "metadata": {},
   "outputs": [
    {
     "name": "stdout",
     "output_type": "stream",
     "text": [
      "Cluster ID:\n",
      "[3]\n"
     ]
    }
   ],
   "source": [
    "print(\"Cluster ID:\")\n",
    "Y = Tfidf.transform([\"LED\"])\n",
    "prediction = model.predict(Y)\n",
    "print(prediction)"
   ]
  },
  {
   "cell_type": "code",
   "execution_count": 21,
   "metadata": {},
   "outputs": [
    {
     "name": "stdout",
     "output_type": "stream",
     "text": [
      "Cluster ID:\n",
      "[11]\n"
     ]
    }
   ],
   "source": [
    "print(\"Cluster ID:\")\n",
    "Y = Tfidf.transform([\"Zinc\"])\n",
    "prediction = model.predict(Y)\n",
    "print(prediction)"
   ]
  },
  {
   "cell_type": "code",
   "execution_count": 23,
   "metadata": {},
   "outputs": [
    {
     "name": "stdout",
     "output_type": "stream",
     "text": [
      "Cluster ID:\n",
      "[0]\n"
     ]
    }
   ],
   "source": [
    "print(\"Cluster ID:\")\n",
    "Y = Tfidf.transform([\"bathroom\"])\n",
    "prediction = model.predict(Y)\n",
    "print(prediction)"
   ]
  },
  {
   "cell_type": "code",
   "execution_count": 24,
   "metadata": {},
   "outputs": [
    {
     "name": "stdout",
     "output_type": "stream",
     "text": [
      "Cluster ID:\n",
      "[9]\n"
     ]
    }
   ],
   "source": [
    "print(\"Cluster ID:\")\n",
    "Y = Tfidf.transform([\"steel\"])\n",
    "prediction = model.predict(Y)\n",
    "print(prediction)"
   ]
  },
  {
   "cell_type": "code",
   "execution_count": 30,
   "metadata": {},
   "outputs": [
    {
     "name": "stdout",
     "output_type": "stream",
     "text": [
      "Cluster ID:\n",
      "[5]\n"
     ]
    }
   ],
   "source": [
    "print(\"Cluster ID:\")\n",
    "Y = Tfidf.transform([\"water\"])\n",
    "prediction = model.predict(Y)\n",
    "print(prediction)"
   ]
  },
  {
   "cell_type": "code",
   "execution_count": null,
   "metadata": {},
   "outputs": [],
   "source": []
  }
 ],
 "metadata": {
  "kernelspec": {
   "display_name": "Python 3",
   "language": "python",
   "name": "python3"
  },
  "language_info": {
   "codemirror_mode": {
    "name": "ipython",
    "version": 3
   },
   "file_extension": ".py",
   "mimetype": "text/x-python",
   "name": "python",
   "nbconvert_exporter": "python",
   "pygments_lexer": "ipython3",
   "version": "3.7.1"
  }
 },
 "nbformat": 4,
 "nbformat_minor": 2
}
